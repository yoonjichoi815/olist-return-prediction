{
 "cells": [
  {
   "cell_type": "markdown",
   "id": "3dd6b344ec4f35ae",
   "metadata": {},
   "source": [
    "# Data Analysis Project\n",
    "#### Goal: Analyze the relationship between customer review scores (review_score) and return rates (where order_status is \"canceled\")\n",
    "Dataset used: Kaggle Brazilian E-Commerce Dataset (Olist)\n",
    "1. Are lower review scores associated with higher return rates?\n",
    "2. Do certain product categories have higher return rates?\n",
    "3. Are return rates different by season (monthly variation)?"
   ]
  },
  {
   "cell_type": "markdown",
   "id": "174ba796bebe690f",
   "metadata": {},
   "source": [
    "## 1. Collect Data\n",
    "#### - Download Dataset from Kaggle, set path, and load CSV file"
   ]
  },
  {
   "cell_type": "code",
   "execution_count": 4,
   "id": "83b9ffd8d5b21ca0",
   "metadata": {
    "ExecuteTime": {
     "end_time": "2025-04-01T22:13:20.728005Z",
     "start_time": "2025-04-01T22:13:20.334764Z"
    }
   },
   "outputs": [
    {
     "name": "stdout",
     "output_type": "stream",
     "text": [
      "Path to dataset files: /Users/yoonji/.cache/kagglehub/datasets/olistbr/brazilian-ecommerce/versions/2\n"
     ]
    }
   ],
   "source": [
    "import kagglehub\n",
    "\n",
    "# Download latest version\n",
    "path = kagglehub.dataset_download(\"olistbr/brazilian-ecommerce\")\n",
    "\n",
    "print(\"Path to dataset files:\", path)"
   ]
  },
  {
   "cell_type": "markdown",
   "id": "c72d28f35f5d34b5",
   "metadata": {},
   "source": [
    "#### - After downloading the dataset from Kaggle, check the set path and the list of files in the folder\n"
   ]
  },
  {
   "cell_type": "code",
   "execution_count": 5,
   "id": "2862b9f67de5e83e",
   "metadata": {
    "ExecuteTime": {
     "end_time": "2025-04-01T22:13:20.749379Z",
     "start_time": "2025-04-01T22:13:20.746277Z"
    }
   },
   "outputs": [
    {
     "name": "stdout",
     "output_type": "stream",
     "text": [
      "['olist_sellers_dataset.csv', 'product_category_name_translation.csv', 'olist_orders_dataset.csv', 'olist_order_items_dataset.csv', 'olist_customers_dataset.csv', 'olist_geolocation_dataset.csv', 'olist_order_payments_dataset.csv', 'olist_order_reviews_dataset.csv', 'olist_products_dataset.csv']\n"
     ]
    }
   ],
   "source": [
    "import os\n",
    "\n",
    "dataset_path = \"/Users/yoonji/.cache/kagglehub/datasets/olistbr/brazilian-ecommerce/versions/2\"\n",
    "print(os.listdir(dataset_path))  # Check files in the folder"
   ]
  },
  {
   "cell_type": "markdown",
   "id": "e7ecd96d8fd6332d",
   "metadata": {},
   "source": [
    "#### - Load and check CSV file data"
   ]
  },
  {
   "cell_type": "code",
   "execution_count": 6,
   "id": "370407878ac20505",
   "metadata": {
    "ExecuteTime": {
     "end_time": "2025-04-01T22:13:21.315677Z",
     "start_time": "2025-04-01T22:13:20.759214Z"
    }
   },
   "outputs": [
    {
     "name": "stdout",
     "output_type": "stream",
     "text": [
      "Order Data:\n",
      "                            order_id                       customer_id  \\\n",
      "0  e481f51cbdc54678b7cc49136f2d6af7  9ef432eb6251297304e76186b10a928d   \n",
      "1  53cdb2fc8bc7dce0b6741e2150273451  b0830fb4747a6c6d20dea0b8c802d7ef   \n",
      "2  47770eb9100c2d0c44946d9cf07ec65d  41ce2a54c0b03bf3443c3d931a367089   \n",
      "3  949d5b44dbf5de918fe9c16f97b45f8a  f88197465ea7920adcdbec7375364d82   \n",
      "4  ad21c59c0840e6cb83a9ceb5573f8159  8ab97904e6daea8866dbdbc4fb7aad2c   \n",
      "\n",
      "  order_status order_purchase_timestamp    order_approved_at  \\\n",
      "0    delivered      2017-10-02 10:56:33  2017-10-02 11:07:15   \n",
      "1    delivered      2018-07-24 20:41:37  2018-07-26 03:24:27   \n",
      "2    delivered      2018-08-08 08:38:49  2018-08-08 08:55:23   \n",
      "3    delivered      2017-11-18 19:28:06  2017-11-18 19:45:59   \n",
      "4    delivered      2018-02-13 21:18:39  2018-02-13 22:20:29   \n",
      "\n",
      "  order_delivered_carrier_date order_delivered_customer_date  \\\n",
      "0          2017-10-04 19:55:00           2017-10-10 21:25:13   \n",
      "1          2018-07-26 14:31:00           2018-08-07 15:27:45   \n",
      "2          2018-08-08 13:50:00           2018-08-17 18:06:29   \n",
      "3          2017-11-22 13:39:59           2017-12-02 00:28:42   \n",
      "4          2018-02-14 19:46:34           2018-02-16 18:17:02   \n",
      "\n",
      "  order_estimated_delivery_date  \n",
      "0           2017-10-18 00:00:00  \n",
      "1           2018-08-13 00:00:00  \n",
      "2           2018-09-04 00:00:00  \n",
      "3           2017-12-15 00:00:00  \n",
      "4           2018-02-26 00:00:00  \n",
      "\n",
      "Review Data:\n",
      "                           review_id                          order_id  \\\n",
      "0  7bc2406110b926393aa56f80a40eba40  73fc7af87114b39712e6da79b0a377eb   \n",
      "1  80e641a11e56f04c1ad469d5645fdfde  a548910a1c6147796b98fdf73dbeba33   \n",
      "2  228ce5500dc1d8e020d8d1322874b6f0  f9e4b658b201a9f2ecdecbb34bed034b   \n",
      "3  e64fb393e7b32834bb789ff8bb30750e  658677c97b385a9be170737859d3511b   \n",
      "4  f7c4243c7fe1938f181bec41a392bdeb  8e6bfb81e283fa7e4f11123a3fb894f1   \n",
      "\n",
      "   review_score review_comment_title  \\\n",
      "0             4                  NaN   \n",
      "1             5                  NaN   \n",
      "2             5                  NaN   \n",
      "3             5                  NaN   \n",
      "4             5                  NaN   \n",
      "\n",
      "                              review_comment_message review_creation_date  \\\n",
      "0                                                NaN  2018-01-18 00:00:00   \n",
      "1                                                NaN  2018-03-10 00:00:00   \n",
      "2                                                NaN  2018-02-17 00:00:00   \n",
      "3              Recebi bem antes do prazo estipulado.  2017-04-21 00:00:00   \n",
      "4  Parabéns lojas lannister adorei comprar pela I...  2018-03-01 00:00:00   \n",
      "\n",
      "  review_answer_timestamp  \n",
      "0     2018-01-18 21:46:59  \n",
      "1     2018-03-11 03:05:13  \n",
      "2     2018-02-18 14:36:24  \n",
      "3     2017-04-21 22:02:06  \n",
      "4     2018-03-02 10:26:53  \n",
      "\n",
      "Product Data:\n",
      "                          product_id  product_category_name  \\\n",
      "0  1e9e8ef04dbcff4541ed26657ea517e5             perfumaria   \n",
      "1  3aa071139cb16b67ca9e5dea641aaa2f                  artes   \n",
      "2  96bd76ec8810374ed1b65e291975717f          esporte_lazer   \n",
      "3  cef67bcfe19066a932b7673e239eb23d                  bebes   \n",
      "4  9dc1a7de274444849c219cff195d0b71  utilidades_domesticas   \n",
      "\n",
      "   product_name_lenght  product_description_lenght  product_photos_qty  \\\n",
      "0                 40.0                       287.0                 1.0   \n",
      "1                 44.0                       276.0                 1.0   \n",
      "2                 46.0                       250.0                 1.0   \n",
      "3                 27.0                       261.0                 1.0   \n",
      "4                 37.0                       402.0                 4.0   \n",
      "\n",
      "   product_weight_g  product_length_cm  product_height_cm  product_width_cm  \n",
      "0             225.0               16.0               10.0              14.0  \n",
      "1            1000.0               30.0               18.0              20.0  \n",
      "2             154.0               18.0                9.0              15.0  \n",
      "3             371.0               26.0                4.0              26.0  \n",
      "4             625.0               20.0               17.0              13.0  \n",
      "\n",
      "Order Item Data:\n",
      "                            order_id  order_item_id  \\\n",
      "0  00010242fe8c5a6d1ba2dd792cb16214              1   \n",
      "1  00018f77f2f0320c557190d7a144bdd3              1   \n",
      "2  000229ec398224ef6ca0657da4fc703e              1   \n",
      "3  00024acbcdf0a6daa1e931b038114c75              1   \n",
      "4  00042b26cf59d7ce69dfabb4e55b4fd9              1   \n",
      "\n",
      "                         product_id                         seller_id  \\\n",
      "0  4244733e06e7ecb4970a6e2683c13e61  48436dade18ac8b2bce089ec2a041202   \n",
      "1  e5f2d52b802189ee658865ca93d83a8f  dd7ddc04e1b6c2c614352b383efe2d36   \n",
      "2  c777355d18b72b67abbeef9df44fd0fd  5b51032eddd242adc84c38acab88f23d   \n",
      "3  7634da152a4610f1595efa32f14722fc  9d7a1d34a5052409006425275ba1c2b4   \n",
      "4  ac6c3623068f30de03045865e4e10089  df560393f3a51e74553ab94004ba5c87   \n",
      "\n",
      "   shipping_limit_date   price  freight_value  \n",
      "0  2017-09-19 09:45:35   58.90          13.29  \n",
      "1  2017-05-03 11:05:13  239.90          19.93  \n",
      "2  2018-01-18 14:48:30  199.00          17.87  \n",
      "3  2018-08-15 10:10:18   12.99          12.79  \n",
      "4  2017-02-13 13:57:51  199.90          18.14  \n",
      "\n",
      "Category Name Data:\n",
      "     product_category_name product_category_name_english\n",
      "0            beleza_saude                 health_beauty\n",
      "1  informatica_acessorios         computers_accessories\n",
      "2              automotivo                          auto\n",
      "3         cama_mesa_banho                bed_bath_table\n",
      "4        moveis_decoracao               furniture_decor\n",
      "\n",
      "Payment Data:\n",
      "                            order_id  payment_sequential payment_type  \\\n",
      "0  b81ef226f3fe1789b1e8b2acac839d17                   1  credit_card   \n",
      "1  a9810da82917af2d9aefd1278f1dcfa0                   1  credit_card   \n",
      "2  25e8ea4e93396b6fa0d3dd708e76c1bd                   1  credit_card   \n",
      "3  ba78997921bbcdc1373bb41e913ab953                   1  credit_card   \n",
      "4  42fdf880ba16b47b59251dd489d4441a                   1  credit_card   \n",
      "\n",
      "   payment_installments  payment_value  \n",
      "0                     8          99.33  \n",
      "1                     1          24.39  \n",
      "2                     1          65.71  \n",
      "3                     8         107.78  \n",
      "4                     2         128.45  \n"
     ]
    }
   ],
   "source": [
    "import pandas as pd\n",
    "\n",
    "# Set file paths\n",
    "orders_path = dataset_path + \"/olist_orders_dataset.csv\"\n",
    "reviews_path = dataset_path + \"/olist_order_reviews_dataset.csv\"\n",
    "products_path = dataset_path + \"/olist_products_dataset.csv\"\n",
    "order_items_path = dataset_path + \"/olist_order_items_dataset.csv\"\n",
    "category_translation_path = dataset_path + \"/product_category_name_translation.csv\"\n",
    "payments_path = dataset_path + \"/olist_order_payments_dataset.csv\"\n",
    "\n",
    "# Load data\n",
    "orders = pd.read_csv(orders_path)\n",
    "reviews = pd.read_csv(reviews_path)\n",
    "products = pd.read_csv(products_path)\n",
    "order_items = pd.read_csv(order_items_path)\n",
    "category_translation = pd.read_csv(category_translation_path)\n",
    "payments = pd.read_csv(payments_path)\n",
    "\n",
    "\n",
    "# Check data\n",
    "print(\"Order Data:\\n\", orders.head())\n",
    "print(\"\\nReview Data:\\n\", reviews.head())\n",
    "print(\"\\nProduct Data:\\n\", products.head())\n",
    "print(\"\\nOrder Item Data:\\n\", order_items.head())\n",
    "print(\"\\nCategory Name Data:\\n\", category_translation.head())\n",
    "print(\"\\nPayment Data:\\n\", payments.head())"
   ]
  },
  {
   "cell_type": "markdown",
   "id": "c48b8ea58bb66393",
   "metadata": {},
   "source": [
    "## 2. Data Preprocessing\n",
    "####  - Merge review scores and return status into one table"
   ]
  },
  {
   "cell_type": "code",
   "execution_count": 7,
   "id": "e65675973f724b5f",
   "metadata": {
    "ExecuteTime": {
     "end_time": "2025-04-01T22:13:21.440579Z",
     "start_time": "2025-04-01T22:13:21.333413Z"
    }
   },
   "outputs": [
    {
     "name": "stdout",
     "output_type": "stream",
     "text": [
      "                           order_id                       customer_id  \\\n",
      "0  e481f51cbdc54678b7cc49136f2d6af7  9ef432eb6251297304e76186b10a928d   \n",
      "1  53cdb2fc8bc7dce0b6741e2150273451  b0830fb4747a6c6d20dea0b8c802d7ef   \n",
      "2  47770eb9100c2d0c44946d9cf07ec65d  41ce2a54c0b03bf3443c3d931a367089   \n",
      "3  949d5b44dbf5de918fe9c16f97b45f8a  f88197465ea7920adcdbec7375364d82   \n",
      "4  ad21c59c0840e6cb83a9ceb5573f8159  8ab97904e6daea8866dbdbc4fb7aad2c   \n",
      "\n",
      "  order_status  review_score  return_status                        product_id  \\\n",
      "0    delivered             4              0  87285b34884572647811a353c7ac498a   \n",
      "1    delivered             4              0  595fac2a385ac33a80bd5114aec74eb8   \n",
      "2    delivered             5              0  aa4383b373c6aca5d8797843e5594415   \n",
      "3    delivered             5              0  d0b61bfb1de832b15ba9d266ca96e5b0   \n",
      "4    delivered             5              0  65266b2da20d04dbe00c5c2d3bb7859e   \n",
      "\n",
      "   product_category_name  \n",
      "0  utilidades_domesticas  \n",
      "1             perfumaria  \n",
      "2             automotivo  \n",
      "3               pet_shop  \n",
      "4              papelaria  \n"
     ]
    }
   ],
   "source": [
    "# Select necessary columns\n",
    "orders_short = orders[['order_id', 'customer_id', 'order_status']]\n",
    "reviews_short = reviews[['order_id', 'review_score']]\n",
    "order_items_short = order_items[['order_id', 'product_id']]\n",
    "products_short = products[['product_id', 'product_category_name']]\n",
    "\n",
    "# Merge order and review data\n",
    "df = pd.merge(orders_short, reviews_short, on=\"order_id\")\n",
    "\n",
    "# Create return status column (1 if canceled, else 0)\n",
    "df['return_status'] = df['order_status'].apply(lambda x: 1 if x == 'canceled' else 0)\n",
    "\n",
    "# Merge order item and product data\n",
    "df = pd.merge(df, order_items_short, on=\"order_id\")\n",
    "df = pd.merge(df, products_short, on=\"product_id\")\n",
    "\n",
    "# Check data\n",
    "print(df.head())"
   ]
  },
  {
   "cell_type": "markdown",
   "id": "bef1f6932927ca76",
   "metadata": {},
   "source": [
    "**Additional Analysis Required**<br>\n",
    "Only return_status = 0 (not returned) rows are shown at the top, so we should check if returned orders exist(return_status == 1)."
   ]
  },
  {
   "cell_type": "markdown",
   "id": "2f223063bb356189",
   "metadata": {},
   "source": [
    "## 3. Exploratory Data Analysis (EDA)\n",
    "#### - Basic statistics and relationship between review scores and return status"
   ]
  },
  {
   "cell_type": "code",
   "execution_count": 8,
   "id": "aeb8d009993f4d54",
   "metadata": {
    "ExecuteTime": {
     "end_time": "2025-04-01T22:13:21.478093Z",
     "start_time": "2025-04-01T22:13:21.452734Z"
    }
   },
   "outputs": [
    {
     "name": "stdout",
     "output_type": "stream",
     "text": [
      "        review_score  return_status\n",
      "count  112372.000000  112372.000000\n",
      "mean        4.032473       0.004708\n",
      "std         1.387849       0.068450\n",
      "min         1.000000       0.000000\n",
      "25%         4.000000       0.000000\n",
      "50%         5.000000       0.000000\n",
      "75%         5.000000       0.000000\n",
      "max         5.000000       1.000000\n",
      "\\Missing values in each column: \n",
      " order_id                    0\n",
      "customer_id                 0\n",
      "order_status                0\n",
      "review_score                0\n",
      "return_status               0\n",
      "product_id                  0\n",
      "product_category_name    1598\n",
      "dtype: int64\n",
      "\n",
      "Data counts by review score:\n",
      " review_score\n",
      "5    63525\n",
      "4    21315\n",
      "1    14235\n",
      "3     9423\n",
      "2     3874\n",
      "Name: count, dtype: int64\n",
      "\n",
      "Data count by return status:\n",
      " return_status\n",
      "0    111843\n",
      "1       529\n",
      "Name: count, dtype: int64\n",
      "review_score\n",
      "1    0.028381\n",
      "2    0.009035\n",
      "3    0.003608\n",
      "4    0.000610\n",
      "5    0.000677\n",
      "Name: return_status, dtype: float64\n"
     ]
    }
   ],
   "source": [
    "import matplotlib.pyplot as plt\n",
    "import seaborn as sns\n",
    "\n",
    "# Check Basic stats\n",
    "print(df.describe())\n",
    "\n",
    "# Check for missing values\n",
    "print(\"\\Missing values in each column: \\n\", df. isnull().sum ())\n",
    "\n",
    "# Counts by review score\n",
    "print(\"\\nData counts by review score:\\n\", df['review_score'].value_counts ())\n",
    "\n",
    "# Counts by return status\n",
    "print(\"\\nData count by return status:\\n\", df['return_status'].value_counts()) # 1(returned), O (not returned)\n",
    "\n",
    "# Return rate by review score\n",
    "review_return_rate = df.groupby('review_score')['return_status'].mean() # Group data by review score to calculate average return rate\n",
    "print(review_return_rate)"
   ]
  },
  {
   "cell_type": "markdown",
   "id": "60e0ad7d8d53893",
   "metadata": {},
   "source": [
    "**Explanation**<br>\n",
    "Return data exists, so we can analyze the relationship between review scores and return rates."
   ]
  },
  {
   "cell_type": "markdown",
   "id": "2b931cc55e486230",
   "metadata": {},
   "source": [
    "#### - Data Visualization"
   ]
  },
  {
   "cell_type": "code",
   "execution_count": 9,
   "id": "2da6131259a4f2ee",
   "metadata": {
    "ExecuteTime": {
     "end_time": "2025-04-01T22:13:21.639551Z",
     "start_time": "2025-04-01T22:13:21.495336Z"
    }
   },
   "outputs": [
    {
     "data": {
      "image/png": "[encoded data removed]",
      "text/plain": [
       "<Figure size 640x480 with 1 Axes>"
      ]
     },
     "metadata": {},
     "output_type": "display_data"
    },
    {
     "data": {
      "image/png": "[encoded data removed]",
      "text/plain": [
       "<Figure size 640x480 with 1 Axes>"
      ]
     },
     "metadata": {},
     "output_type": "display_data"
    }
   ],
   "source": [
    "# Histogram of review scores\n",
    "plt.hist(df['review_score'], bins=5, edgecolor='black')\n",
    "plt.xlabel (\"Review Score\")\n",
    "plt.ylabel (\"Count\")\n",
    "plt.title(\"Distribution of Review Scores\")\n",
    "plt.show()\n",
    "\n",
    "# Bar chart: return rate by review score\n",
    "plt.bar(review_return_rate.index, review_return_rate.values)\n",
    "plt.xlabel('Review Score')\n",
    "plt.ylabel('Return Rate')\n",
    "plt.title('Return Rate by Review Score')\n",
    "plt.show()"
   ]
  },
  {
   "cell_type": "code",
   "execution_count": 10,
   "id": "cb1dabd4f267d617",
   "metadata": {
    "ExecuteTime": {
     "end_time": "2025-04-01T22:13:21.694296Z",
     "start_time": "2025-04-01T22:13:21.647611Z"
    }
   },
   "outputs": [
    {
     "name": "stdout",
     "output_type": "stream",
     "text": [
      "               review_score  return_status\n",
      "review_score       1.000000      -0.120858\n",
      "return_status     -0.120858       1.000000\n"
     ]
    },
    {
     "data": {
      "image/png": "[encoded data removed]",
      "text/plain": [
       "<Figure size 500x400 with 2 Axes>"
      ]
     },
     "metadata": {},
     "output_type": "display_data"
    }
   ],
   "source": [
    "# Correlation between review score and return status\n",
    "correlation = df[['review_score', 'return_status']].corr()\n",
    "print(correlation)\n",
    "# correlation = -0.12, weak negative relationship\n",
    "\n",
    "# Heatmap of correlation\n",
    "plt.figure(figsize=(5, 4))\n",
    "sns.heatmap(correlation, annot=True, cmap='coolwarm', fmt=\".2f\")\n",
    "plt.title(\"Correlation Heatmap\")\n",
    "plt.show()\n",
    "# Red (1.00): Strong Positive Relationship (itself)\n",
    "# Blue (-0.12): Weak Negative Relationship"
   ]
  },
  {
   "cell_type": "markdown",
   "id": "bdd4c68f4860c61f",
   "metadata": {},
   "source": [
    "#### - Result Analysis\n",
    "- Correlation coefficient<br>\n",
    "correlation = -0.12: Weak negative correlation\n",
    "Lower review scores are slightly associated with a higher return rate, but the relationship is not strong.\n",
    "\n",
    "- Heatmap analysis<br>\n",
    "The correlation between review_score and return_status is -0.12 (blue), meaning a slightly increased return rate with lower scores. However, the relationship is not strong, so there may be more influential factors.\n",
    "\n",
    "- Additional Analysis Required:<br>\n",
    "Relationship between price and return rate\n",
    "Delivery time and return status\n",
    "Return rate by product category"
   ]
  },
  {
   "cell_type": "markdown",
   "id": "dda147a40f7d4f81",
   "metadata": {},
   "source": [
    "## 4. Statistical Analysis and Hypothesis Testing\n",
    "#### - T-test for difference in return rates between low and high review scores\n",
    "Hypotheses:<br>\n",
    "H₀: No difference in return rates between low and high score groups<br>\n",
    "H₁: Low score group has higher return rates"
   ]
  },
  {
   "cell_type": "code",
   "execution_count": 11,
   "id": "a70c05729583a43a",
   "metadata": {
    "ExecuteTime": {
     "end_time": "2025-04-01T22:13:21.727756Z",
     "start_time": "2025-04-01T22:13:21.712944Z"
    }
   },
   "outputs": [
    {
     "name": "stdout",
     "output_type": "stream",
     "text": [
      "t-statistic: 20.571767865353408 p-value: 5.514690293693966e-93\n"
     ]
    }
   ],
   "source": [
    "from scipy.stats import ttest_ind\n",
    "\n",
    "# t-test\n",
    "low = df[df['review_score'] <= 2]['return_status']\n",
    "high = df[df['review_score'] >= 4]['return_status']\n",
    "\n",
    "t_stat, p_value = ttest_ind(low, high, equal_var=False) # ttest_ind(x, y)\n",
    "print(\"t-statistic:\", t_stat, \"p-value:\", p_value)"
   ]
  },
  {
   "cell_type": "markdown",
   "id": "3ad26140854ea01a",
   "metadata": {},
   "source": [
    "**Explanation**<br>\n",
    "p-value < 0.05: Reject H₀ — there is a statistically significant difference in return rates based on review score."
   ]
  },
  {
   "cell_type": "markdown",
   "id": "fa5d7b29fcb1b1a9",
   "metadata": {},
   "source": [
    "#### - ANOVA test for return rate differences by product category\n",
    "Hypotheses:<br>\n",
    "H₀: No difference in return rates across product categories<br>\n",
    "H₁: At least one category has a different return rate"
   ]
  },
  {
   "cell_type": "code",
   "execution_count": 12,
   "id": "dc940fcdfd38b780",
   "metadata": {
    "ExecuteTime": {
     "end_time": "2025-04-01T22:13:21.786899Z",
     "start_time": "2025-04-01T22:13:21.739720Z"
    }
   },
   "outputs": [
    {
     "name": "stdout",
     "output_type": "stream",
     "text": [
      "Product Category Name in English:\n",
      " ['housewares' 'perfumery' 'auto' 'pet_shop' 'stationery' nan\n",
      " 'furniture_decor' 'office_furniture' 'garden_tools'\n",
      " 'computers_accessories' 'bed_bath_table' 'toys' 'telephony'\n",
      " 'health_beauty' 'electronics' 'baby' 'cool_stuff' 'watches_gifts'\n",
      " 'air_conditioning' 'sports_leisure' 'books_general_interest'\n",
      " 'construction_tools_construction' 'small_appliances' 'food'\n",
      " 'luggage_accessories' 'fashion_underwear_beach' 'christmas_supplies'\n",
      " 'fashion_bags_accessories' 'musical_instruments'\n",
      " 'construction_tools_lights' 'books_technical' 'costruction_tools_garden'\n",
      " 'home_appliances' 'market_place' 'agro_industry_and_commerce'\n",
      " 'party_supplies' 'home_confort' 'cds_dvds_musicals'\n",
      " 'industry_commerce_and_business' 'consoles_games' 'furniture_bedroom'\n",
      " 'construction_tools_safety' 'fixed_telephony' 'drinks'\n",
      " 'kitchen_dining_laundry_garden_furniture' 'fashion_shoes'\n",
      " 'home_construction' 'audio' 'home_appliances_2' 'fashion_male_clothing'\n",
      " 'cine_photo' 'furniture_living_room' 'art' 'food_drink'\n",
      " 'tablets_printing_image' 'fashion_sport' 'la_cuisine' 'flowers'\n",
      " 'computers' 'home_comfort_2' 'small_appliances_home_oven_and_coffee'\n",
      " 'dvds_blu_ray' 'costruction_tools_tools' 'fashio_female_clothing'\n",
      " 'furniture_mattress_and_upholstery' 'signaling_and_security'\n",
      " 'diapers_and_hygiene' 'books_imported' 'fashion_childrens_clothes'\n",
      " 'music' 'arts_and_craftmanship' 'security_and_services']\n",
      "\n",
      "The number of data in each category\n",
      "Electronics: 2749\n",
      "Furniture: 8331\n",
      "Fashion: 131\n",
      "\n",
      "F-statistic: 0.19941856824244333 p-value: 0.8192098341704064\n"
     ]
    }
   ],
   "source": [
    "from scipy.stats import f_oneway\n",
    "\n",
    "# Merge English category names: Check the category name\n",
    "merged_df = pd.merge(products, category_translation, on='product_category_name', how='left')\n",
    "df = pd.merge(df, merged_df[['product_id', 'product_category_name_english']], on='product_id', how='left')\n",
    "print(\"Product Category Name in English:\\n\", df['product_category_name_english'].unique())\n",
    "\n",
    "# Groups for ANOVA: Extract groups to use for comparing return rates by category\n",
    "electronics = df[df['product_category_name_english'] == 'electronics']['return_status']\n",
    "furniture = df[df['product_category_name_english'] == 'furniture_decor']['return_status']\n",
    "fashion = df[df['product_category_name_english'] == 'fashion_male_clothing']['return_status']\n",
    "\n",
    "# Sample size\n",
    "print(\"\\nThe number of data in each category\")\n",
    "print(\"Electronics:\", len(electronics))\n",
    "print(\"Furniture:\", len(furniture))\n",
    "print(\"Fashion:\", len(fashion))\n",
    "\n",
    "# ANOVA\n",
    "anova_result = f_oneway(electronics, furniture, fashion)\n",
    "print(\"\\nF-statistic:\", anova_result.statistic, \"p-value:\", anova_result.pvalue)"
   ]
  },
  {
   "cell_type": "markdown",
   "id": "2392c7c92e7c3a2b",
   "metadata": {},
   "source": [
    "**Explanation**<br>\n",
    "p-value = 0.8192 > 0.05: Do not reject H₀ — no statistically significant difference in return rates among the three categories."
   ]
  },
  {
   "cell_type": "markdown",
   "id": "f590db248123ccf",
   "metadata": {},
   "source": [
    "#### - Chi-Square Test for independence between category and return status\n",
    "Hypotheses:<br>\n",
    "H₀: Product category and return status are independent<br>\n",
    "H₁: Product category and return status are related\n",
    "\n"
   ]
  },
  {
   "cell_type": "code",
   "execution_count": 13,
   "id": "a30267d55ace70f3",
   "metadata": {
    "ExecuteTime": {
     "end_time": "2025-04-01T22:13:21.827406Z",
     "start_time": "2025-04-01T22:13:21.809691Z"
    }
   },
   "outputs": [
    {
     "name": "stdout",
     "output_type": "stream",
     "text": [
      "Chi-square statistic: 207.70715362160462 p-value: 4.294503050782418e-15\n"
     ]
    }
   ],
   "source": [
    "from scipy.stats import chi2_contingency\n",
    "\n",
    "# Create contingency table\n",
    "contingency_table = pd.crosstab(df['product_category_name'], df['return_status'])\n",
    "\n",
    "# Chi-Square\n",
    "chi2, p, dof, expected = chi2_contingency(contingency_table)\n",
    "print(\"Chi-square statistic:\", chi2, \"p-value:\", p)"
   ]
  },
  {
   "cell_type": "markdown",
   "id": "3ac3b76abeee255c",
   "metadata": {},
   "source": [
    "**Explanation**<br>\n",
    "p-value < 0.05: Reject H₀ — product category and return status are related."
   ]
  },
  {
   "cell_type": "markdown",
   "id": "8875c68b40819849",
   "metadata": {},
   "source": [
    "#### - Linear Regression: Does review score influence return rate?\n",
    "Hypotheses:<br>\n",
    "H₀: Review score has no impact on return rate<br>\n",
    "H₁: Lower review score increases return rate\n",
    "\n"
   ]
  },
  {
   "cell_type": "code",
   "execution_count": 14,
   "id": "fb951cb2116f14d9",
   "metadata": {
    "ExecuteTime": {
     "end_time": "2025-04-01T22:13:22.427924Z",
     "start_time": "2025-04-01T22:13:21.834060Z"
    }
   },
   "outputs": [
    {
     "name": "stdout",
     "output_type": "stream",
     "text": [
      "                            OLS Regression Results                            \n",
      "==============================================================================\n",
      "Dep. Variable:          return_status   R-squared:                       0.015\n",
      "Model:                            OLS   Adj. R-squared:                  0.015\n",
      "Method:                 Least Squares   F-statistic:                     1666.\n",
      "Date:                Tue, 01 Apr 2025   Prob (F-statistic):               0.00\n",
      "Time:                        18:13:22   Log-Likelihood:             1.4272e+05\n",
      "No. Observations:              112372   AIC:                        -2.854e+05\n",
      "Df Residuals:                  112370   BIC:                        -2.854e+05\n",
      "Df Model:                           1                                         \n",
      "Covariance Type:            nonrobust                                         \n",
      "================================================================================\n",
      "                   coef    std err          t      P>|t|      [0.025      0.975]\n",
      "--------------------------------------------------------------------------------\n",
      "const            0.0287      0.001     46.149      0.000       0.028       0.030\n",
      "review_score    -0.0060      0.000    -40.813      0.000      -0.006      -0.006\n",
      "==============================================================================\n",
      "Omnibus:                   206603.510   Durbin-Watson:                   1.676\n",
      "Prob(Omnibus):                  0.000   Jarque-Bera (JB):        193661131.288\n",
      "Skew:                          14.153   Prob(JB):                         0.00\n",
      "Kurtosis:                     204.396   Cond. No.                         13.8\n",
      "==============================================================================\n",
      "\n",
      "Notes:\n",
      "[1] Standard Errors assume that the covariance matrix of the errors is correctly specified.\n"
     ]
    }
   ],
   "source": [
    "import statsmodels.api as sm\n",
    "\n",
    "# Set the independent variable (x) and dependent variable (y)\n",
    "X = df[['review_score']]\n",
    "y = df['return_status']\n",
    "\n",
    "# Add a constant term (with intercept)\n",
    "X = sm.add_constant(X)\n",
    "# Without an intercept, the line must pass through (0,0). Adding an intercept allows you to find the best-fit regression line even if the data does not go past the origin.\n",
    "\n",
    "# Regression model\n",
    "model = sm.OLS(y, X).fit()\n",
    "print(model.summary())"
   ]
  },
  {
   "cell_type": "markdown",
   "id": "b7f93a9a41f49ca6",
   "metadata": {},
   "source": [
    "**Explanation**<br>\n",
    "- R² = 0.015 (very low): Only 1.5% of variance explained\n",
    "- Coefficients:<br>\n",
    "Intercept = 0.0287 (return rate when score = 0)<br>\n",
    "review_score = -0.0060 (each 1-point increase in score reduces return rate by 0.6%)\n",
    "- P>|t| = 0.000 (p-value < 0.05): reject H0 (statistically significant) → The lower the review score, the higher the return rate.\n",
    "- Interpretation: The explanatory power is low → consider multiple regression with more variables."
   ]
  },
  {
   "cell_type": "markdown",
   "id": "8e496dc848e5ceef",
   "metadata": {},
   "source": [
    "#### - Multiple Linear Regression: Analyze other influencing factors"
   ]
  },
  {
   "cell_type": "code",
   "execution_count": 15,
   "id": "a692591e4bc7c2e1",
   "metadata": {
    "ExecuteTime": {
     "end_time": "2025-04-01T22:13:22.824929Z",
     "start_time": "2025-04-01T22:13:22.481125Z"
    }
   },
   "outputs": [
    {
     "name": "stdout",
     "output_type": "stream",
     "text": [
      "Index(['order_id', 'customer_id', 'order_status', 'review_score',\n",
      "       'return_status', 'product_id', 'product_category_name',\n",
      "       'product_category_name_english', 'delivery_late', 'total_price'],\n",
      "      dtype='object')\n",
      "                            OLS Regression Results                            \n",
      "==============================================================================\n",
      "Dep. Variable:          return_status   R-squared:                       0.018\n",
      "Model:                            OLS   Adj. R-squared:                  0.018\n",
      "Method:                 Least Squares   F-statistic:                     698.4\n",
      "Date:                Tue, 01 Apr 2025   Prob (F-statistic):               0.00\n",
      "Time:                        18:13:22   Log-Likelihood:             1.4293e+05\n",
      "No. Observations:              112369   AIC:                        -2.858e+05\n",
      "Df Residuals:                  112365   BIC:                        -2.858e+05\n",
      "Df Model:                           3                                         \n",
      "Covariance Type:            nonrobust                                         \n",
      "=================================================================================\n",
      "                    coef    std err          t      P>|t|      [0.025      0.975]\n",
      "---------------------------------------------------------------------------------\n",
      "const             0.0329      0.001     47.171      0.000       0.032       0.034\n",
      "review_score     -0.0068      0.000    -44.481      0.000      -0.007      -0.007\n",
      "delivery_late    -0.0160      0.001    -19.916      0.000      -0.018      -0.014\n",
      "total_price    3.509e-06   7.51e-07      4.675      0.000    2.04e-06    4.98e-06\n",
      "==============================================================================\n",
      "Omnibus:                   206039.338   Durbin-Watson:                   1.675\n",
      "Prob(Omnibus):                  0.000   Jarque-Bera (JB):        190780917.214\n",
      "Skew:                          14.073   Prob(JB):                         0.00\n",
      "Kurtosis:                     202.888   Cond. No.                     1.43e+03\n",
      "==============================================================================\n",
      "\n",
      "Notes:\n",
      "[1] Standard Errors assume that the covariance matrix of the errors is correctly specified.\n",
      "[2] The condition number is large, 1.43e+03. This might indicate that there are\n",
      "strong multicollinearity or other numerical problems.\n"
     ]
    }
   ],
   "source": [
    "import numpy as np\n",
    "\n",
    "# Create delivery delay variable\n",
    "# Convert to a date type\n",
    "orders['order_delivered_customer_date'] = pd.to_datetime(orders['order_delivered_customer_date'])\n",
    "orders['order_estimated_delivery_date'] = pd.to_datetime(orders['order_estimated_delivery_date'])\n",
    "\n",
    "# Create a late delivery status\n",
    "orders['delivery_late'] = (orders['order_delivered_customer_date'] > orders['order_estimated_delivery_date']).astype(int)\n",
    "\n",
    "# Extract only the columns\n",
    "orders_late = orders[['order_id', 'delivery_late']]\n",
    "\n",
    "# Calculate total price\n",
    "# Calculate the total amount paid per order\n",
    "order_price = payments.groupby(\"order_id\")[\"payment_value\"].sum().reset_index()\n",
    "\n",
    "# Change name\n",
    "order_price.rename(columns={\"payment_value\": \"total_price\"}, inplace=True)\n",
    "\n",
    "# Merge with main df\n",
    "df = pd.merge(df, orders_late, on='order_id', how='left')\n",
    "df = pd.merge(df, order_price, on='order_id', how='left')\n",
    "\n",
    "# Check if it was merged into df\n",
    "print(df.columns)\n",
    "\n",
    "# Multiple Regression\n",
    "# Select features\n",
    "features = ['review_score', 'delivery_late', 'total_price']\n",
    "\n",
    "# Drop missing(NaN) or infinite(inf)\n",
    "df = df.replace([np.inf, -np.inf], np.nan).dropna(subset=features + ['return_status'])\n",
    "\n",
    "# Define the independent variable (x) and dependent variable (y)\n",
    "X = df[features]\n",
    "y = df['return_status']\n",
    "\n",
    "# Adding Constants\n",
    "X = sm.add_constant(X)\n",
    "\n",
    "# Regression model\n",
    "model = sm.OLS(y, X).fit()\n",
    "\n",
    "# Print Result\n",
    "print(model.summary())"
   ]
  },
  {
   "cell_type": "markdown",
   "id": "c1802ed178d111b4",
   "metadata": {},
   "source": [
    "**Explanation**<br>\n",
    "- R² = 0.018 (still low): Slight influence from variables\n",
    "- P>|t| = 0.000 (p-value < 0.05): reject H0 → The lower the review score, the more delayed the delivery, the higher the probability of return.\n",
    "- Interpretation: Price has a small impact<br>\n",
    "→ Add more variables (category, region, payment type, etc.) for improved prediction<br>\n",
    "→ Move to modeling stage for prediction\n",
    "\n"
   ]
  },
  {
   "cell_type": "markdown",
   "id": "17ee445462f90f8e",
   "metadata": {},
   "source": [
    "## 5. Modeling"
   ]
  },
  {
   "cell_type": "code",
   "execution_count": 16,
   "id": "78dbfc27d843f6b7",
   "metadata": {
    "ExecuteTime": {
     "end_time": "2025-04-01T22:13:23.038563Z",
     "start_time": "2025-04-01T22:13:22.859347Z"
    }
   },
   "outputs": [],
   "source": [
    "from sklearn.model_selection import train_test_split\n",
    "X = df[features]  # the descriptive variable we defined earlier\n",
    "y = df['return_status']  # target variable\n",
    "\n",
    "X_train, X_test, y_train, y_test = train_test_split(X, y, test_size=0.2, random_state=42)"
   ]
  },
  {
   "cell_type": "code",
   "execution_count": 17,
   "id": "4a807557335316b3",
   "metadata": {
    "ExecuteTime": {
     "end_time": "2025-04-01T22:13:23.740276Z",
     "start_time": "2025-04-01T22:13:23.067390Z"
    }
   },
   "outputs": [
    {
     "name": "stdout",
     "output_type": "stream",
     "text": [
      "              precision    recall  f1-score   support\n",
      "\n",
      "           0       1.00      0.88      0.93     22366\n",
      "           1       0.03      0.81      0.06       108\n",
      "\n",
      "    accuracy                           0.88     22474\n",
      "   macro avg       0.51      0.84      0.50     22474\n",
      "weighted avg       0.99      0.88      0.93     22474\n",
      "\n",
      "[[19652  2714]\n",
      " [   21    87]]\n"
     ]
    }
   ],
   "source": [
    "# Logistic Regression\n",
    "from sklearn.linear_model import LogisticRegression\n",
    "from sklearn.metrics import classification_report, confusion_matrix\n",
    "\n",
    "model = LogisticRegression(class_weight='balanced', max_iter=1000)\n",
    "model.fit(X_train, y_train)\n",
    "\n",
    "y_pred = model.predict(X_test)\n",
    "\n",
    "print(classification_report(y_test, y_pred))\n",
    "print(confusion_matrix(y_test, y_pred))"
   ]
  },
  {
   "cell_type": "markdown",
   "id": "8f8fd04ddd2eb1b0",
   "metadata": {},
   "source": [
    "**Explanation**<br>\n",
    "Total test samples: 22,474<br>\n",
    "Returned orders: 109 (highly imbalanced)\n",
    "- Accuracy: 88%\n",
    "- Recall: 0.91 (captures 91% of actual returns)<br>\n",
    "- Precision: 0.04 (only 4% of predicted returns are correct) → Overpredicting returns<br>\n",
    "- Additional Analysis Required: Apply SMOTE to handle imbalance\n",
    "\n"
   ]
  },
  {
   "cell_type": "markdown",
   "id": "998ff3bae489f0eb",
   "metadata": {},
   "source": [
    "#### - Reduce data imbalance (SMOTE)"
   ]
  },
  {
   "cell_type": "code",
   "execution_count": 18,
   "id": "89d05376c466716a",
   "metadata": {
    "ExecuteTime": {
     "end_time": "2025-04-01T22:13:24.026007Z",
     "start_time": "2025-04-01T22:13:23.794010Z"
    }
   },
   "outputs": [],
   "source": [
    "# SMOTE Oversampling\n",
    "from imblearn.over_sampling import SMOTE\n",
    "\n",
    "# SMOTE\n",
    "smote = SMOTE(random_state=42)\n",
    "X_resampled, y_resampled = smote.fit_resample(X_train, y_train) # resample only in train data"
   ]
  },
  {
   "cell_type": "markdown",
   "id": "2994ad667252c95e",
   "metadata": {},
   "source": [
    "#### - Random Forest"
   ]
  },
  {
   "cell_type": "code",
   "execution_count": 19,
   "id": "ba466ae63107bfa9",
   "metadata": {
    "ExecuteTime": {
     "end_time": "2025-04-01T22:13:36.665495Z",
     "start_time": "2025-04-01T22:13:24.030829Z"
    }
   },
   "outputs": [
    {
     "name": "stdout",
     "output_type": "stream",
     "text": [
      "              precision    recall  f1-score   support\n",
      "\n",
      "           0       1.00      0.95      0.98     22366\n",
      "           1       0.06      0.57      0.10       108\n",
      "\n",
      "    accuracy                           0.95     22474\n",
      "   macro avg       0.53      0.76      0.54     22474\n",
      "weighted avg       0.99      0.95      0.97     22474\n",
      "\n",
      "[[21334  1032]\n",
      " [   46    62]]\n"
     ]
    }
   ],
   "source": [
    "from sklearn.ensemble import RandomForestClassifier\n",
    "from sklearn.metrics import classification_report, confusion_matrix\n",
    "\n",
    "# Create Random Forest Model\n",
    "rf_model = RandomForestClassifier(random_state=42)\n",
    "\n",
    "# Training (using oversampled data)\n",
    "rf_model.fit(X_resampled, y_resampled)\n",
    "\n",
    "# Predictions (using the original test set)\n",
    "y_pred_rf = rf_model.predict(X_test)\n",
    "\n",
    "# Performance evaluation output\n",
    "print(classification_report(y_test, y_pred_rf))\n",
    "print(confusion_matrix(y_test, y_pred_rf))"
   ]
  },
  {
   "cell_type": "markdown",
   "id": "eff88f853128233e",
   "metadata": {},
   "source": [
    "**Explanation**<br>\n",
    "- Accuracy: 0.95<br>\n",
    "- Precision: 0.06 Percentage of predicted returns that are true returns (the probability that a return is true when it's called a return)<br>\n",
    "- Recall: 0.65 Percentage of actual returns that were successfully predicted (how well did we catch them without missing them)<br>\n",
    "- F1-score: 0.11 Harmonic mean of precision and recall (overall prediction quality)"
   ]
  },
  {
   "cell_type": "markdown",
   "metadata": {},
   "source": [
    "#### - Save the Trained Model and Training Data"
   ]
  },
  {
   "cell_type": "code",
   "execution_count": 20,
   "id": "3ee68f002cd5c942",
   "metadata": {
    "ExecuteTime": {
     "end_time": "2025-04-01T22:13:36.729142Z",
     "start_time": "2025-04-01T22:13:36.684779Z"
    }
   },
   "outputs": [
    {
     "data": {
      "text/plain": [
       "['model.pkl']"
      ]
     },
     "execution_count": 20,
     "metadata": {},
     "output_type": "execute_result"
    }
   ],
   "source": [
    "import joblib\n",
    "\n",
    "joblib.dump(rf_model, \"model.pkl\")"
   ]
  },
  {
   "cell_type": "code",
   "execution_count": 21,
   "id": "961bbab29e9e3d05",
   "metadata": {
    "ExecuteTime": {
     "end_time": "2025-04-01T22:13:36.882198Z",
     "start_time": "2025-04-01T22:13:36.814817Z"
    }
   },
   "outputs": [],
   "source": [
    "# Make csv file for X_train data\n",
    "X_train.to_csv(\"X_train.csv\", index=False)\n",
    "\n",
    "# Make csv file for y_train data\n",
    "y_train.to_csv(\"y_train.csv\", index=False)"
   ]
  }
 ],
 "metadata": {
  "kernelspec": {
   "display_name": "Python 3",
   "language": "python",
   "name": "python3"
  },
  "language_info": {
   "codemirror_mode": {
    "name": "ipython",
    "version": 3
   },
   "file_extension": ".py",
   "mimetype": "text/x-python",
   "name": "python",
   "nbconvert_exporter": "python",
   "pygments_lexer": "ipython3",
   "version": "3.11.8"
  }
 },
 "nbformat": 4,
 "nbformat_minor": 5
}
